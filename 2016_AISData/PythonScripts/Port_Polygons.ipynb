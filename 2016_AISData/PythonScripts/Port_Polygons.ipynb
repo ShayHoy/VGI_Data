{
 "cells": [
  {
   "cell_type": "code",
   "execution_count": 1,
   "metadata": {
    "collapsed": true
   },
   "outputs": [],
   "source": [
    "''' This code was created to take a csv file of bounding boxes of specific ports ...\n",
    " and create individual polygon shapefiles.  Created by S.Hoy, July 2018'''\n",
    "\n",
    "# Import necessary packages\n",
    "from shapely import geometry\n",
    "import pandas as pd\n",
    "import geopandas as gpd\n"
   ]
  },
  {
   "cell_type": "code",
   "execution_count": 2,
   "metadata": {
    "collapsed": true
   },
   "outputs": [],
   "source": [
    "# Specify out path\n",
    "fpath = '/home/mapper/VGI_Data/2016_AISData/ProcessedData/PortPolygons'"
   ]
  },
  {
   "cell_type": "code",
   "execution_count": 3,
   "metadata": {},
   "outputs": [],
   "source": [
    "# Import csv file as pandas dataframe\n",
    "df = pd.read_csv('/home/mapper/VGI_Data/2016_AISData/AncilaryData/TheCrowd.csv')\n",
    "# drop any nan values\n",
    "df = df.dropna()\n",
    "# itterate across rows to create individual shapefiles\n",
    "for index, row in df.iterrows():\n",
    "    # create empty pandas dataframe\n",
    "    df1 = pd.DataFrame(columns=['Port', 'CrowdType'])\n",
    "    # set CrowdType from current row\n",
    "    df1.set_value(0,'CrowdType', row['CrowdType'])\n",
    "    # set Port value from city and state value of fow\n",
    "    df1.set_value(0,'Port', row['City'] + '_' + row['State'])\n",
    "    # define Upper Left bounding point\n",
    "    UL = geometry.Point(row['UL_LON'], row['UL_LAT'])\n",
    "    # define Lower Left bounding point\n",
    "    LL = geometry.Point(row['LL_LON'], row['LL_LAT'])\n",
    "    # define Upper Right bounding point\n",
    "    UR = geometry.Point(row['UR_LON'], row['UR_LAT'])\n",
    "    # define Lower Right bounding point\n",
    "    LR = geometry.Point(row['LR_LON'], row['LR_LAT'])\n",
    "    # create list of polygon points (counter clockwise order)\n",
    "    poly = [UL, UR, LR, LL]\n",
    "    # create coordinates\n",
    "    coords = [[p.x, p.y] for p in poly]\n",
    "    # create polygon from coordinates\n",
    "    poly = geometry.Polygon(coords)\n",
    "    # set coordinate reference 4326 = WGS84\n",
    "    crs = {'init': 'epsg:4326'}\n",
    "    # create Geodataframe\n",
    "    gdf = gpd.GeoDataFrame(df1, crs=crs)\n",
    "    gdf['geometry'] = poly\n",
    "    # set filename\n",
    "    fname = str(row['City'] + '_' + row['State'] + '.shp')\n",
    "    # output to shapefile\n",
    "    gdf.to_file(fpath +'/' + fname)\n",
    "\n",
    "\n",
    "\n",
    "\n"
   ]
  },
  {
   "cell_type": "code",
   "execution_count": null,
   "metadata": {},
   "outputs": [],
   "source": []
  }
 ],
 "metadata": {
  "kernelspec": {
   "display_name": "Python 2",
   "language": "python",
   "name": "python2"
  },
  "language_info": {
   "codemirror_mode": {
    "name": "ipython",
    "version": 2
   },
   "file_extension": ".py",
   "mimetype": "text/x-python",
   "name": "python",
   "nbconvert_exporter": "python",
   "pygments_lexer": "ipython2",
   "version": "2.7.6"
  }
 },
 "nbformat": 4,
 "nbformat_minor": 0
}
